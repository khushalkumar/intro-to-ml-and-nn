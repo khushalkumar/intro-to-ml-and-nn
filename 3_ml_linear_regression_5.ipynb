{
  "cells": [
    {
      "cell_type": "markdown",
      "metadata": {
        "id": "view-in-github",
        "colab_type": "text"
      },
      "source": [
        "<a href=\"https://colab.research.google.com/github/khushalkumar/intro-to-ml-and-nn/blob/main/3_ml_linear_regression_5.ipynb\" target=\"_parent\"><img src=\"https://colab.research.google.com/assets/colab-badge.svg\" alt=\"Open In Colab\"/></a>"
      ]
    },
    {
      "cell_type": "markdown",
      "id": "e28d4f43",
      "metadata": {
        "id": "e28d4f43"
      },
      "source": [
        "# Dealing with Multicollinearity Using VIF in statsmodels"
      ]
    },
    {
      "cell_type": "markdown",
      "id": "2eaacfb1",
      "metadata": {
        "id": "2eaacfb1"
      },
      "source": [
        "This notebook talks about:\n",
        "    <br>1. Multicollinearity\n",
        "    <br>2. Heteroskedasticity"
      ]
    },
    {
      "cell_type": "code",
      "execution_count": null,
      "id": "a076db49",
      "metadata": {
        "id": "a076db49"
      },
      "outputs": [],
      "source": [
        "import numpy as np\n",
        "import pandas as pd\n",
        "import matplotlib.pyplot as plt\n",
        "df = pd.read_csv('cars24-car-price-clean.csv')"
      ]
    },
    {
      "cell_type": "markdown",
      "id": "4f64b051",
      "metadata": {
        "id": "4f64b051"
      },
      "source": [
        "We're gonna use statsmodels library as it has support for VIF and for performing Linear Regression"
      ]
    },
    {
      "cell_type": "code",
      "execution_count": null,
      "id": "83f82baf",
      "metadata": {
        "id": "83f82baf"
      },
      "outputs": [],
      "source": [
        "import statsmodels.api as sm\n",
        "\n",
        "X = df[df.columns.drop('selling_price')]\n",
        "Y = df['selling_price']"
      ]
    },
    {
      "cell_type": "code",
      "execution_count": null,
      "id": "8d651393",
      "metadata": {
        "id": "8d651393",
        "outputId": "79eb3b64-2198-425c-f025-d54a36c7a7d4"
      },
      "outputs": [
        {
          "data": {
            "text/plain": [
              "((19820, 17), (19820,))"
            ]
          },
          "execution_count": 6,
          "metadata": {},
          "output_type": "execute_result"
        }
      ],
      "source": [
        "X.shape, Y.shape"
      ]
    },
    {
      "cell_type": "markdown",
      "id": "f7a99875",
      "metadata": {
        "id": "f7a99875"
      },
      "source": [
        "sm, unlike sklearn, does not support adding that extra feature corresponding to the intercept"
      ]
    },
    {
      "cell_type": "code",
      "execution_count": null,
      "id": "b25ee260",
      "metadata": {
        "id": "b25ee260",
        "outputId": "320bb899-4d5d-42af-d08c-467410d46868"
      },
      "outputs": [
        {
          "data": {
            "text/plain": [
              "(19820, 18)"
            ]
          },
          "execution_count": 7,
          "metadata": {},
          "output_type": "execute_result"
        }
      ],
      "source": [
        "X_sm = sm.add_constant(X)\n",
        "X_sm.shape"
      ]
    },
    {
      "cell_type": "code",
      "execution_count": null,
      "id": "c9a39f65",
      "metadata": {
        "id": "c9a39f65",
        "outputId": "8a034b28-589f-4a02-d5c6-83d90df5d4b8"
      },
      "outputs": [
        {
          "data": {
            "text/html": [
              "<div>\n",
              "<style scoped>\n",
              "    .dataframe tbody tr th:only-of-type {\n",
              "        vertical-align: middle;\n",
              "    }\n",
              "\n",
              "    .dataframe tbody tr th {\n",
              "        vertical-align: top;\n",
              "    }\n",
              "\n",
              "    .dataframe thead th {\n",
              "        text-align: right;\n",
              "    }\n",
              "</style>\n",
              "<table border=\"1\" class=\"dataframe\">\n",
              "  <thead>\n",
              "    <tr style=\"text-align: right;\">\n",
              "      <th></th>\n",
              "      <th>const</th>\n",
              "      <th>year</th>\n",
              "      <th>km_driven</th>\n",
              "      <th>mileage</th>\n",
              "      <th>engine</th>\n",
              "      <th>max_power</th>\n",
              "      <th>age</th>\n",
              "      <th>make</th>\n",
              "      <th>model</th>\n",
              "      <th>Individual</th>\n",
              "      <th>Trustmark Dealer</th>\n",
              "      <th>Diesel</th>\n",
              "      <th>Electric</th>\n",
              "      <th>LPG</th>\n",
              "      <th>Petrol</th>\n",
              "      <th>Manual</th>\n",
              "      <th>5</th>\n",
              "      <th>&gt;5</th>\n",
              "    </tr>\n",
              "  </thead>\n",
              "  <tbody>\n",
              "    <tr>\n",
              "      <th>0</th>\n",
              "      <td>1.0</td>\n",
              "      <td>-0.801317</td>\n",
              "      <td>1.195828</td>\n",
              "      <td>0.045745</td>\n",
              "      <td>-1.310754</td>\n",
              "      <td>-1.157780</td>\n",
              "      <td>0.801317</td>\n",
              "      <td>-0.433854</td>\n",
              "      <td>-1.125683</td>\n",
              "      <td>1.248892</td>\n",
              "      <td>-0.098382</td>\n",
              "      <td>-0.985275</td>\n",
              "      <td>-0.020095</td>\n",
              "      <td>-0.056917</td>\n",
              "      <td>1.024622</td>\n",
              "      <td>0.495818</td>\n",
              "      <td>0.444503</td>\n",
              "      <td>-0.424728</td>\n",
              "    </tr>\n",
              "    <tr>\n",
              "      <th>1</th>\n",
              "      <td>1.0</td>\n",
              "      <td>0.450030</td>\n",
              "      <td>-0.737872</td>\n",
              "      <td>-0.140402</td>\n",
              "      <td>-0.537456</td>\n",
              "      <td>-0.360203</td>\n",
              "      <td>-0.450030</td>\n",
              "      <td>-0.327501</td>\n",
              "      <td>-0.333227</td>\n",
              "      <td>1.248892</td>\n",
              "      <td>-0.098382</td>\n",
              "      <td>-0.985275</td>\n",
              "      <td>-0.020095</td>\n",
              "      <td>-0.056917</td>\n",
              "      <td>1.024622</td>\n",
              "      <td>0.495818</td>\n",
              "      <td>0.444503</td>\n",
              "      <td>-0.424728</td>\n",
              "    </tr>\n",
              "  </tbody>\n",
              "</table>\n",
              "</div>"
            ],
            "text/plain": [
              "   const      year  km_driven   mileage    engine  max_power       age  \\\n",
              "0    1.0 -0.801317   1.195828  0.045745 -1.310754  -1.157780  0.801317   \n",
              "1    1.0  0.450030  -0.737872 -0.140402 -0.537456  -0.360203 -0.450030   \n",
              "\n",
              "       make     model  Individual  Trustmark Dealer    Diesel  Electric  \\\n",
              "0 -0.433854 -1.125683    1.248892         -0.098382 -0.985275 -0.020095   \n",
              "1 -0.327501 -0.333227    1.248892         -0.098382 -0.985275 -0.020095   \n",
              "\n",
              "        LPG    Petrol    Manual         5        >5  \n",
              "0 -0.056917  1.024622  0.495818  0.444503 -0.424728  \n",
              "1 -0.056917  1.024622  0.495818  0.444503 -0.424728  "
            ]
          },
          "execution_count": 8,
          "metadata": {},
          "output_type": "execute_result"
        }
      ],
      "source": [
        "X_sm[:2] # As you can see, const column has been added."
      ]
    },
    {
      "cell_type": "code",
      "execution_count": null,
      "id": "ff2bcd67",
      "metadata": {
        "id": "ff2bcd67",
        "outputId": "992963cc-9b2b-4749-d658-f951084e26ab"
      },
      "outputs": [
        {
          "data": {
            "text/html": [
              "<table class=\"simpletable\">\n",
              "<caption>OLS Regression Results</caption>\n",
              "<tr>\n",
              "  <th>Dep. Variable:</th>      <td>selling_price</td>  <th>  R-squared:         </th> <td>   0.942</td> \n",
              "</tr>\n",
              "<tr>\n",
              "  <th>Model:</th>                   <td>OLS</td>       <th>  Adj. R-squared:    </th> <td>   0.942</td> \n",
              "</tr>\n",
              "<tr>\n",
              "  <th>Method:</th>             <td>Least Squares</td>  <th>  F-statistic:       </th> <td>2.017e+04</td>\n",
              "</tr>\n",
              "<tr>\n",
              "  <th>Date:</th>             <td>Tue, 06 Jun 2023</td> <th>  Prob (F-statistic):</th>  <td>  0.00</td>  \n",
              "</tr>\n",
              "<tr>\n",
              "  <th>Time:</th>                 <td>12:44:07</td>     <th>  Log-Likelihood:    </th> <td>  125.84</td> \n",
              "</tr>\n",
              "<tr>\n",
              "  <th>No. Observations:</th>      <td> 19820</td>      <th>  AIC:               </th> <td>  -217.7</td> \n",
              "</tr>\n",
              "<tr>\n",
              "  <th>Df Residuals:</th>          <td> 19803</td>      <th>  BIC:               </th> <td>  -83.48</td> \n",
              "</tr>\n",
              "<tr>\n",
              "  <th>Df Model:</th>              <td>    16</td>      <th>                     </th>     <td> </td>    \n",
              "</tr>\n",
              "<tr>\n",
              "  <th>Covariance Type:</th>      <td>nonrobust</td>    <th>                     </th>     <td> </td>    \n",
              "</tr>\n",
              "</table>\n",
              "<table class=\"simpletable\">\n",
              "<tr>\n",
              "          <td></td>            <th>coef</th>     <th>std err</th>      <th>t</th>      <th>P>|t|</th>  <th>[0.025</th>    <th>0.975]</th>  \n",
              "</tr>\n",
              "<tr>\n",
              "  <th>const</th>            <td>-5.204e-17</td> <td>    0.002</td> <td>-3.05e-14</td> <td> 1.000</td> <td>   -0.003</td> <td>    0.003</td>\n",
              "</tr>\n",
              "<tr>\n",
              "  <th>year</th>             <td>    0.0650</td> <td>    0.001</td> <td>   54.830</td> <td> 0.000</td> <td>    0.063</td> <td>    0.067</td>\n",
              "</tr>\n",
              "<tr>\n",
              "  <th>km_driven</th>        <td>   -0.0182</td> <td>    0.002</td> <td>   -9.609</td> <td> 0.000</td> <td>   -0.022</td> <td>   -0.015</td>\n",
              "</tr>\n",
              "<tr>\n",
              "  <th>mileage</th>          <td>   -0.0487</td> <td>    0.003</td> <td>  -16.056</td> <td> 0.000</td> <td>   -0.055</td> <td>   -0.043</td>\n",
              "</tr>\n",
              "<tr>\n",
              "  <th>engine</th>           <td>    0.0314</td> <td>    0.004</td> <td>    7.334</td> <td> 0.000</td> <td>    0.023</td> <td>    0.040</td>\n",
              "</tr>\n",
              "<tr>\n",
              "  <th>max_power</th>        <td>    0.0274</td> <td>    0.004</td> <td>    7.106</td> <td> 0.000</td> <td>    0.020</td> <td>    0.035</td>\n",
              "</tr>\n",
              "<tr>\n",
              "  <th>age</th>              <td>   -0.0650</td> <td>    0.001</td> <td>  -54.830</td> <td> 0.000</td> <td>   -0.067</td> <td>   -0.063</td>\n",
              "</tr>\n",
              "<tr>\n",
              "  <th>make</th>             <td>    0.0608</td> <td>    0.003</td> <td>   19.874</td> <td> 0.000</td> <td>    0.055</td> <td>    0.067</td>\n",
              "</tr>\n",
              "<tr>\n",
              "  <th>model</th>            <td>    0.7942</td> <td>    0.004</td> <td>  192.975</td> <td> 0.000</td> <td>    0.786</td> <td>    0.802</td>\n",
              "</tr>\n",
              "<tr>\n",
              "  <th>Individual</th>       <td>   -0.0170</td> <td>    0.002</td> <td>   -9.509</td> <td> 0.000</td> <td>   -0.020</td> <td>   -0.013</td>\n",
              "</tr>\n",
              "<tr>\n",
              "  <th>Trustmark Dealer</th> <td>   -0.0035</td> <td>    0.002</td> <td>   -2.013</td> <td> 0.044</td> <td>   -0.007</td> <td>-9.19e-05</td>\n",
              "</tr>\n",
              "<tr>\n",
              "  <th>Diesel</th>           <td>    0.0141</td> <td>    0.007</td> <td>    1.997</td> <td> 0.046</td> <td>    0.000</td> <td>    0.028</td>\n",
              "</tr>\n",
              "<tr>\n",
              "  <th>Electric</th>         <td>    0.0128</td> <td>    0.002</td> <td>    6.901</td> <td> 0.000</td> <td>    0.009</td> <td>    0.016</td>\n",
              "</tr>\n",
              "<tr>\n",
              "  <th>LPG</th>              <td>    0.0028</td> <td>    0.002</td> <td>    1.489</td> <td> 0.136</td> <td>   -0.001</td> <td>    0.007</td>\n",
              "</tr>\n",
              "<tr>\n",
              "  <th>Petrol</th>           <td>   -0.0226</td> <td>    0.007</td> <td>   -3.119</td> <td> 0.002</td> <td>   -0.037</td> <td>   -0.008</td>\n",
              "</tr>\n",
              "<tr>\n",
              "  <th>Manual</th>           <td>   -0.0129</td> <td>    0.002</td> <td>   -5.646</td> <td> 0.000</td> <td>   -0.017</td> <td>   -0.008</td>\n",
              "</tr>\n",
              "<tr>\n",
              "  <th>5</th>                <td>   -0.0246</td> <td>    0.006</td> <td>   -4.150</td> <td> 0.000</td> <td>   -0.036</td> <td>   -0.013</td>\n",
              "</tr>\n",
              "<tr>\n",
              "  <th>>5</th>               <td>   -0.0327</td> <td>    0.006</td> <td>   -5.237</td> <td> 0.000</td> <td>   -0.045</td> <td>   -0.020</td>\n",
              "</tr>\n",
              "</table>\n",
              "<table class=\"simpletable\">\n",
              "<tr>\n",
              "  <th>Omnibus:</th>       <td>4569.412</td> <th>  Durbin-Watson:     </th>  <td>   1.915</td> \n",
              "</tr>\n",
              "<tr>\n",
              "  <th>Prob(Omnibus):</th>  <td> 0.000</td>  <th>  Jarque-Bera (JB):  </th> <td>180275.540</td>\n",
              "</tr>\n",
              "<tr>\n",
              "  <th>Skew:</th>           <td> 0.334</td>  <th>  Prob(JB):          </th>  <td>    0.00</td> \n",
              "</tr>\n",
              "<tr>\n",
              "  <th>Kurtosis:</th>       <td>17.760</td>  <th>  Cond. No.          </th>  <td>8.91e+15</td> \n",
              "</tr>\n",
              "</table><br/><br/>Notes:<br/>[1] Standard Errors assume that the covariance matrix of the errors is correctly specified.<br/>[2] The smallest eigenvalue is 1.14e-27. This might indicate that there are<br/>strong multicollinearity problems or that the design matrix is singular."
            ],
            "text/plain": [
              "<class 'statsmodels.iolib.summary.Summary'>\n",
              "\"\"\"\n",
              "                            OLS Regression Results                            \n",
              "==============================================================================\n",
              "Dep. Variable:          selling_price   R-squared:                       0.942\n",
              "Model:                            OLS   Adj. R-squared:                  0.942\n",
              "Method:                 Least Squares   F-statistic:                 2.017e+04\n",
              "Date:                Tue, 06 Jun 2023   Prob (F-statistic):               0.00\n",
              "Time:                        12:44:07   Log-Likelihood:                 125.84\n",
              "No. Observations:               19820   AIC:                            -217.7\n",
              "Df Residuals:                   19803   BIC:                            -83.48\n",
              "Df Model:                          16                                         \n",
              "Covariance Type:            nonrobust                                         \n",
              "====================================================================================\n",
              "                       coef    std err          t      P>|t|      [0.025      0.975]\n",
              "------------------------------------------------------------------------------------\n",
              "const            -5.204e-17      0.002  -3.05e-14      1.000      -0.003       0.003\n",
              "year                 0.0650      0.001     54.830      0.000       0.063       0.067\n",
              "km_driven           -0.0182      0.002     -9.609      0.000      -0.022      -0.015\n",
              "mileage             -0.0487      0.003    -16.056      0.000      -0.055      -0.043\n",
              "engine               0.0314      0.004      7.334      0.000       0.023       0.040\n",
              "max_power            0.0274      0.004      7.106      0.000       0.020       0.035\n",
              "age                 -0.0650      0.001    -54.830      0.000      -0.067      -0.063\n",
              "make                 0.0608      0.003     19.874      0.000       0.055       0.067\n",
              "model                0.7942      0.004    192.975      0.000       0.786       0.802\n",
              "Individual          -0.0170      0.002     -9.509      0.000      -0.020      -0.013\n",
              "Trustmark Dealer    -0.0035      0.002     -2.013      0.044      -0.007   -9.19e-05\n",
              "Diesel               0.0141      0.007      1.997      0.046       0.000       0.028\n",
              "Electric             0.0128      0.002      6.901      0.000       0.009       0.016\n",
              "LPG                  0.0028      0.002      1.489      0.136      -0.001       0.007\n",
              "Petrol              -0.0226      0.007     -3.119      0.002      -0.037      -0.008\n",
              "Manual              -0.0129      0.002     -5.646      0.000      -0.017      -0.008\n",
              "5                   -0.0246      0.006     -4.150      0.000      -0.036      -0.013\n",
              ">5                  -0.0327      0.006     -5.237      0.000      -0.045      -0.020\n",
              "==============================================================================\n",
              "Omnibus:                     4569.412   Durbin-Watson:                   1.915\n",
              "Prob(Omnibus):                  0.000   Jarque-Bera (JB):           180275.540\n",
              "Skew:                           0.334   Prob(JB):                         0.00\n",
              "Kurtosis:                      17.760   Cond. No.                     8.91e+15\n",
              "==============================================================================\n",
              "\n",
              "Notes:\n",
              "[1] Standard Errors assume that the covariance matrix of the errors is correctly specified.\n",
              "[2] The smallest eigenvalue is 1.14e-27. This might indicate that there are\n",
              "strong multicollinearity problems or that the design matrix is singular.\n",
              "\"\"\""
            ]
          },
          "execution_count": 12,
          "metadata": {},
          "output_type": "execute_result"
        }
      ],
      "source": [
        "# Simple Linear Regression - OLS (Ordinary Least Squares)\n",
        "\n",
        "sm_model = sm.OLS(Y, X_sm).fit()\n",
        "sm_model.summary()"
      ]
    },
    {
      "cell_type": "markdown",
      "id": "45b41e73",
      "metadata": {
        "id": "45b41e73"
      },
      "source": [
        "![image.png](attachment:image.png)"
      ]
    },
    {
      "cell_type": "markdown",
      "id": "a05ebda1",
      "metadata": {
        "id": "a05ebda1"
      },
      "source": [
        "![image.png](attachment:image.png)"
      ]
    },
    {
      "cell_type": "markdown",
      "id": "ae196858",
      "metadata": {
        "id": "ae196858"
      },
      "source": [
        "`P>|t|` is the probability that tells us if the feature is significant or not.<br><br>\n",
        "`std err:` Let's say I train a Linear Regression model on a bootstrapped sample and if I do that, say 40 times. After doing that  40 times, the avg value of the weight for a certain feature is in the coef column and the standard error is given in std err column. And the probability that it is significant is in the P>|t| column."
      ]
    },
    {
      "cell_type": "code",
      "execution_count": null,
      "id": "951f47eb",
      "metadata": {
        "id": "951f47eb"
      },
      "outputs": [],
      "source": [
        "from statsmodels.stats.outliers_influence import variance_inflation_factor"
      ]
    },
    {
      "cell_type": "code",
      "execution_count": null,
      "id": "eb7d5b07",
      "metadata": {
        "id": "eb7d5b07",
        "outputId": "8b1cad8c-0616-497f-932a-1930575674ee"
      },
      "outputs": [
        {
          "name": "stderr",
          "output_type": "stream",
          "text": [
            "C:\\Users\\khush\\anaconda3\\lib\\site-packages\\statsmodels\\stats\\outliers_influence.py:195: RuntimeWarning: divide by zero encountered in double_scalars\n",
            "  vif = 1. / (1. - r_squared_i)\n"
          ]
        },
        {
          "data": {
            "text/html": [
              "<div>\n",
              "<style scoped>\n",
              "    .dataframe tbody tr th:only-of-type {\n",
              "        vertical-align: middle;\n",
              "    }\n",
              "\n",
              "    .dataframe tbody tr th {\n",
              "        vertical-align: top;\n",
              "    }\n",
              "\n",
              "    .dataframe thead th {\n",
              "        text-align: right;\n",
              "    }\n",
              "</style>\n",
              "<table border=\"1\" class=\"dataframe\">\n",
              "  <thead>\n",
              "    <tr style=\"text-align: right;\">\n",
              "      <th></th>\n",
              "      <th>Features</th>\n",
              "      <th>VIF</th>\n",
              "    </tr>\n",
              "  </thead>\n",
              "  <tbody>\n",
              "    <tr>\n",
              "      <th>0</th>\n",
              "      <td>year</td>\n",
              "      <td>inf</td>\n",
              "    </tr>\n",
              "    <tr>\n",
              "      <th>5</th>\n",
              "      <td>age</td>\n",
              "      <td>inf</td>\n",
              "    </tr>\n",
              "    <tr>\n",
              "      <th>13</th>\n",
              "      <td>Petrol</td>\n",
              "      <td>17.949208</td>\n",
              "    </tr>\n",
              "    <tr>\n",
              "      <th>10</th>\n",
              "      <td>Diesel</td>\n",
              "      <td>17.033579</td>\n",
              "    </tr>\n",
              "    <tr>\n",
              "      <th>16</th>\n",
              "      <td>&gt;5</td>\n",
              "      <td>13.316028</td>\n",
              "    </tr>\n",
              "    <tr>\n",
              "      <th>15</th>\n",
              "      <td>5</td>\n",
              "      <td>12.077742</td>\n",
              "    </tr>\n",
              "    <tr>\n",
              "      <th>3</th>\n",
              "      <td>engine</td>\n",
              "      <td>6.272148</td>\n",
              "    </tr>\n",
              "    <tr>\n",
              "      <th>7</th>\n",
              "      <td>model</td>\n",
              "      <td>5.801345</td>\n",
              "    </tr>\n",
              "    <tr>\n",
              "      <th>4</th>\n",
              "      <td>max_power</td>\n",
              "      <td>5.079379</td>\n",
              "    </tr>\n",
              "    <tr>\n",
              "      <th>6</th>\n",
              "      <td>make</td>\n",
              "      <td>3.204460</td>\n",
              "    </tr>\n",
              "    <tr>\n",
              "      <th>2</th>\n",
              "      <td>mileage</td>\n",
              "      <td>3.149380</td>\n",
              "    </tr>\n",
              "    <tr>\n",
              "      <th>14</th>\n",
              "      <td>Manual</td>\n",
              "      <td>1.797808</td>\n",
              "    </tr>\n",
              "    <tr>\n",
              "      <th>12</th>\n",
              "      <td>LPG</td>\n",
              "      <td>1.237699</td>\n",
              "    </tr>\n",
              "    <tr>\n",
              "      <th>1</th>\n",
              "      <td>km_driven</td>\n",
              "      <td>1.233320</td>\n",
              "    </tr>\n",
              "    <tr>\n",
              "      <th>11</th>\n",
              "      <td>Electric</td>\n",
              "      <td>1.169779</td>\n",
              "    </tr>\n",
              "    <tr>\n",
              "      <th>8</th>\n",
              "      <td>Individual</td>\n",
              "      <td>1.088775</td>\n",
              "    </tr>\n",
              "    <tr>\n",
              "      <th>9</th>\n",
              "      <td>Trustmark Dealer</td>\n",
              "      <td>1.020599</td>\n",
              "    </tr>\n",
              "  </tbody>\n",
              "</table>\n",
              "</div>"
            ],
            "text/plain": [
              "            Features        VIF\n",
              "0               year        inf\n",
              "5                age        inf\n",
              "13            Petrol  17.949208\n",
              "10            Diesel  17.033579\n",
              "16                >5  13.316028\n",
              "15                 5  12.077742\n",
              "3             engine   6.272148\n",
              "7              model   5.801345\n",
              "4          max_power   5.079379\n",
              "6               make   3.204460\n",
              "2            mileage   3.149380\n",
              "14            Manual   1.797808\n",
              "12               LPG   1.237699\n",
              "1          km_driven   1.233320\n",
              "11          Electric   1.169779\n",
              "8         Individual   1.088775\n",
              "9   Trustmark Dealer   1.020599"
            ]
          },
          "execution_count": 27,
          "metadata": {},
          "output_type": "execute_result"
        }
      ],
      "source": [
        "vif = pd.DataFrame()\n",
        "X_t = X\n",
        "vif['Features'] = X_t.columns\n",
        "# For each column index i(feature), we calculate the VIF using variance_inflation_factor(X_t.values, i)\n",
        "vif['VIF'] = [variance_inflation_factor(X_t.values, i) for i in range(len(X_t.columns))]\n",
        "vif.sort_values(by = \"VIF\", ascending = False)"
      ]
    },
    {
      "cell_type": "markdown",
      "id": "fcaed120",
      "metadata": {
        "id": "fcaed120"
      },
      "source": [
        "###### X_t.values vs X_t"
      ]
    },
    {
      "cell_type": "code",
      "execution_count": null,
      "id": "acdf0867",
      "metadata": {
        "id": "acdf0867",
        "outputId": "0e156e3f-a125-4925-82cb-58d4643218f1"
      },
      "outputs": [
        {
          "data": {
            "text/plain": [
              "numpy.ndarray"
            ]
          },
          "execution_count": 30,
          "metadata": {},
          "output_type": "execute_result"
        }
      ],
      "source": [
        "type(X_t.values)"
      ]
    },
    {
      "cell_type": "code",
      "execution_count": null,
      "id": "2e3256e3",
      "metadata": {
        "id": "2e3256e3",
        "outputId": "9949f248-f912-4908-8e22-0277c80b3bc4"
      },
      "outputs": [
        {
          "data": {
            "text/plain": [
              "pandas.core.frame.DataFrame"
            ]
          },
          "execution_count": 31,
          "metadata": {},
          "output_type": "execute_result"
        }
      ],
      "source": [
        "type(X_t)"
      ]
    },
    {
      "cell_type": "markdown",
      "id": "25d7813e",
      "metadata": {
        "id": "25d7813e"
      },
      "source": [
        "VIF > 10 is an indicator of multi-collinearity<br>\n",
        "But doesn't give us a license to blindly remove all features with VIF > 10"
      ]
    },
    {
      "cell_type": "markdown",
      "id": "72217180",
      "metadata": {
        "id": "72217180"
      },
      "source": [
        "Feature with highest VIF should be removed. <br>\n",
        "But we have two features \"year\" and \"age\" with VIF = inf.\n",
        "<br>but inf can't be compared with inf.<br>\n",
        "<br>Also, year and age are collinear. age can be calculate with year and vice versa.\n",
        "<br>If two features are collinear, you don't remove all of them.\n",
        "<br>If three features are collinear, you don't remove all of them."
      ]
    },
    {
      "cell_type": "code",
      "execution_count": null,
      "id": "b5d7e33f",
      "metadata": {
        "id": "b5d7e33f"
      },
      "outputs": [],
      "source": [
        "# Let's remove one of the features\n",
        "cols2 = vif.sort_values(by = \"VIF\", ascending = False)['Features'][1:]"
      ]
    },
    {
      "cell_type": "code",
      "execution_count": null,
      "id": "46609d89",
      "metadata": {
        "id": "46609d89",
        "outputId": "d92945dc-3588-4415-f904-371f956622b2"
      },
      "outputs": [
        {
          "name": "stdout",
          "output_type": "stream",
          "text": [
            "                            OLS Regression Results                            \n",
            "==============================================================================\n",
            "Dep. Variable:          selling_price   R-squared:                       0.942\n",
            "Model:                            OLS   Adj. R-squared:                  0.942\n",
            "Method:                 Least Squares   F-statistic:                 2.017e+04\n",
            "Date:                Tue, 06 Jun 2023   Prob (F-statistic):               0.00\n",
            "Time:                        16:10:19   Log-Likelihood:                 125.84\n",
            "No. Observations:               19820   AIC:                            -217.7\n",
            "Df Residuals:                   19803   BIC:                            -83.48\n",
            "Df Model:                          16                                         \n",
            "Covariance Type:            nonrobust                                         \n",
            "====================================================================================\n",
            "                       coef    std err          t      P>|t|      [0.025      0.975]\n",
            "------------------------------------------------------------------------------------\n",
            "const            -5.204e-17      0.002  -3.05e-14      1.000      -0.003       0.003\n",
            "age                 -0.1299      0.002    -54.830      0.000      -0.135      -0.125\n",
            "Petrol              -0.0226      0.007     -3.119      0.002      -0.037      -0.008\n",
            "Diesel               0.0141      0.007      1.997      0.046       0.000       0.028\n",
            ">5                  -0.0327      0.006     -5.237      0.000      -0.045      -0.020\n",
            "5                   -0.0246      0.006     -4.150      0.000      -0.036      -0.013\n",
            "engine               0.0314      0.004      7.334      0.000       0.023       0.040\n",
            "model                0.7942      0.004    192.975      0.000       0.786       0.802\n",
            "max_power            0.0274      0.004      7.106      0.000       0.020       0.035\n",
            "make                 0.0608      0.003     19.874      0.000       0.055       0.067\n",
            "mileage             -0.0487      0.003    -16.056      0.000      -0.055      -0.043\n",
            "Manual              -0.0129      0.002     -5.646      0.000      -0.017      -0.008\n",
            "LPG                  0.0028      0.002      1.489      0.136      -0.001       0.007\n",
            "km_driven           -0.0182      0.002     -9.609      0.000      -0.022      -0.015\n",
            "Electric             0.0128      0.002      6.901      0.000       0.009       0.016\n",
            "Individual          -0.0170      0.002     -9.509      0.000      -0.020      -0.013\n",
            "Trustmark Dealer    -0.0035      0.002     -2.013      0.044      -0.007   -9.19e-05\n",
            "==============================================================================\n",
            "Omnibus:                     4569.412   Durbin-Watson:                   1.915\n",
            "Prob(Omnibus):                  0.000   Jarque-Bera (JB):           180275.540\n",
            "Skew:                           0.334   Prob(JB):                         0.00\n",
            "Kurtosis:                      17.760   Cond. No.                         12.5\n",
            "==============================================================================\n",
            "\n",
            "Notes:\n",
            "[1] Standard Errors assume that the covariance matrix of the errors is correctly specified.\n"
          ]
        }
      ],
      "source": [
        "X = df[cols2]\n",
        "Y = df['selling_price']\n",
        "X_sm = sm.add_constant(X)\n",
        "sm_model = sm.OLS(Y, X_sm).fit()\n",
        "print(sm_model.summary())"
      ]
    },
    {
      "cell_type": "markdown",
      "id": "3c51382c",
      "metadata": {
        "id": "3c51382c"
      },
      "source": [
        "###### R-squared is still the same. Hence, we can go ahead to remove another feature."
      ]
    },
    {
      "cell_type": "code",
      "execution_count": null,
      "id": "a5fff022",
      "metadata": {
        "id": "a5fff022",
        "outputId": "08fcaf1d-ab2e-4ced-e3dd-0897899dadc3"
      },
      "outputs": [
        {
          "data": {
            "text/html": [
              "<div>\n",
              "<style scoped>\n",
              "    .dataframe tbody tr th:only-of-type {\n",
              "        vertical-align: middle;\n",
              "    }\n",
              "\n",
              "    .dataframe tbody tr th {\n",
              "        vertical-align: top;\n",
              "    }\n",
              "\n",
              "    .dataframe thead th {\n",
              "        text-align: right;\n",
              "    }\n",
              "</style>\n",
              "<table border=\"1\" class=\"dataframe\">\n",
              "  <thead>\n",
              "    <tr style=\"text-align: right;\">\n",
              "      <th></th>\n",
              "      <th>Features</th>\n",
              "      <th>VIF</th>\n",
              "    </tr>\n",
              "  </thead>\n",
              "  <tbody>\n",
              "    <tr>\n",
              "      <th>1</th>\n",
              "      <td>Petrol</td>\n",
              "      <td>17.949208</td>\n",
              "    </tr>\n",
              "    <tr>\n",
              "      <th>2</th>\n",
              "      <td>Diesel</td>\n",
              "      <td>17.033579</td>\n",
              "    </tr>\n",
              "    <tr>\n",
              "      <th>3</th>\n",
              "      <td>&gt;5</td>\n",
              "      <td>13.316028</td>\n",
              "    </tr>\n",
              "    <tr>\n",
              "      <th>4</th>\n",
              "      <td>5</td>\n",
              "      <td>12.077742</td>\n",
              "    </tr>\n",
              "    <tr>\n",
              "      <th>5</th>\n",
              "      <td>engine</td>\n",
              "      <td>6.272148</td>\n",
              "    </tr>\n",
              "    <tr>\n",
              "      <th>6</th>\n",
              "      <td>model</td>\n",
              "      <td>5.801345</td>\n",
              "    </tr>\n",
              "    <tr>\n",
              "      <th>7</th>\n",
              "      <td>max_power</td>\n",
              "      <td>5.079379</td>\n",
              "    </tr>\n",
              "    <tr>\n",
              "      <th>8</th>\n",
              "      <td>make</td>\n",
              "      <td>3.204460</td>\n",
              "    </tr>\n",
              "    <tr>\n",
              "      <th>9</th>\n",
              "      <td>mileage</td>\n",
              "      <td>3.149380</td>\n",
              "    </tr>\n",
              "    <tr>\n",
              "      <th>0</th>\n",
              "      <td>age</td>\n",
              "      <td>1.922833</td>\n",
              "    </tr>\n",
              "    <tr>\n",
              "      <th>10</th>\n",
              "      <td>Manual</td>\n",
              "      <td>1.797808</td>\n",
              "    </tr>\n",
              "    <tr>\n",
              "      <th>11</th>\n",
              "      <td>LPG</td>\n",
              "      <td>1.237699</td>\n",
              "    </tr>\n",
              "    <tr>\n",
              "      <th>12</th>\n",
              "      <td>km_driven</td>\n",
              "      <td>1.233320</td>\n",
              "    </tr>\n",
              "    <tr>\n",
              "      <th>13</th>\n",
              "      <td>Electric</td>\n",
              "      <td>1.169779</td>\n",
              "    </tr>\n",
              "    <tr>\n",
              "      <th>14</th>\n",
              "      <td>Individual</td>\n",
              "      <td>1.088775</td>\n",
              "    </tr>\n",
              "    <tr>\n",
              "      <th>15</th>\n",
              "      <td>Trustmark Dealer</td>\n",
              "      <td>1.020599</td>\n",
              "    </tr>\n",
              "  </tbody>\n",
              "</table>\n",
              "</div>"
            ],
            "text/plain": [
              "            Features        VIF\n",
              "1             Petrol  17.949208\n",
              "2             Diesel  17.033579\n",
              "3                 >5  13.316028\n",
              "4                  5  12.077742\n",
              "5             engine   6.272148\n",
              "6              model   5.801345\n",
              "7          max_power   5.079379\n",
              "8               make   3.204460\n",
              "9            mileage   3.149380\n",
              "0                age   1.922833\n",
              "10            Manual   1.797808\n",
              "11               LPG   1.237699\n",
              "12         km_driven   1.233320\n",
              "13          Electric   1.169779\n",
              "14        Individual   1.088775\n",
              "15  Trustmark Dealer   1.020599"
            ]
          },
          "execution_count": 39,
          "metadata": {},
          "output_type": "execute_result"
        }
      ],
      "source": [
        "vif = pd.DataFrame()\n",
        "X_t = X[cols2]\n",
        "vif['Features'] = X_t.columns\n",
        "# For each column index i(feature), we calculate the VIF using variance_inflation_factor(X_t.values, i)\n",
        "vif['VIF'] = [variance_inflation_factor(X_t.values, i) for i in range(len(X_t.columns))]\n",
        "vif.sort_values(by = \"VIF\", ascending = False)"
      ]
    },
    {
      "cell_type": "markdown",
      "id": "4a665048",
      "metadata": {
        "id": "4a665048"
      },
      "source": [
        "age was only correlated with year. We removed year, hence age has no more multicollinearity left."
      ]
    },
    {
      "cell_type": "code",
      "execution_count": null,
      "id": "4ab5a0bd",
      "metadata": {
        "id": "4ab5a0bd"
      },
      "outputs": [],
      "source": [
        "# Let's remove one of the features\n",
        "cols3 = vif.sort_values(by = \"VIF\", ascending = False)['Features'][1:]"
      ]
    },
    {
      "cell_type": "code",
      "execution_count": null,
      "id": "6f4eed5d",
      "metadata": {
        "id": "6f4eed5d",
        "outputId": "be6ac10a-6c48-44e4-a848-3979547b2b1e"
      },
      "outputs": [
        {
          "name": "stdout",
          "output_type": "stream",
          "text": [
            "                            OLS Regression Results                            \n",
            "==============================================================================\n",
            "Dep. Variable:          selling_price   R-squared:                       0.942\n",
            "Model:                            OLS   Adj. R-squared:                  0.942\n",
            "Method:                 Least Squares   F-statistic:                 2.151e+04\n",
            "Date:                Tue, 06 Jun 2023   Prob (F-statistic):               0.00\n",
            "Time:                        17:46:16   Log-Likelihood:                 120.97\n",
            "No. Observations:               19820   AIC:                            -209.9\n",
            "Df Residuals:                   19804   BIC:                            -83.63\n",
            "Df Model:                          15                                         \n",
            "Covariance Type:            nonrobust                                         \n",
            "====================================================================================\n",
            "                       coef    std err          t      P>|t|      [0.025      0.975]\n",
            "------------------------------------------------------------------------------------\n",
            "const            -5.204e-17      0.002  -3.05e-14      1.000      -0.003       0.003\n",
            "Diesel               0.0346      0.003     13.742      0.000       0.030       0.040\n",
            ">5                  -0.0323      0.006     -5.178      0.000      -0.045      -0.020\n",
            "5                   -0.0253      0.006     -4.256      0.000      -0.037      -0.014\n",
            "engine               0.0328      0.004      7.699      0.000       0.024       0.041\n",
            "model                0.7945      0.004    193.115      0.000       0.786       0.803\n",
            "max_power            0.0267      0.004      6.949      0.000       0.019       0.034\n",
            "make                 0.0612      0.003     20.036      0.000       0.055       0.067\n",
            "mileage             -0.0461      0.003    -15.808      0.000      -0.052      -0.040\n",
            "age                 -0.1295      0.002    -54.730      0.000      -0.134      -0.125\n",
            "Manual              -0.0128      0.002     -5.571      0.000      -0.017      -0.008\n",
            "LPG                  0.0054      0.002      3.119      0.002       0.002       0.009\n",
            "km_driven           -0.0180      0.002     -9.482      0.000      -0.022      -0.014\n",
            "Electric             0.0130      0.002      7.044      0.000       0.009       0.017\n",
            "Individual          -0.0172      0.002     -9.684      0.000      -0.021      -0.014\n",
            "Trustmark Dealer    -0.0033      0.002     -1.913      0.056      -0.007    8.13e-05\n",
            "==============================================================================\n",
            "Omnibus:                     4573.686   Durbin-Watson:                   1.915\n",
            "Prob(Omnibus):                  0.000   Jarque-Bera (JB):           180390.852\n",
            "Skew:                           0.336   Prob(JB):                         0.00\n",
            "Kurtosis:                      17.764   Cond. No.                         10.4\n",
            "==============================================================================\n",
            "\n",
            "Notes:\n",
            "[1] Standard Errors assume that the covariance matrix of the errors is correctly specified.\n"
          ]
        }
      ],
      "source": [
        "X = df[cols3]\n",
        "Y = df['selling_price']\n",
        "X_sm = sm.add_constant(X)\n",
        "sm_model = sm.OLS(Y, X_sm).fit()\n",
        "print(sm_model.summary())"
      ]
    },
    {
      "cell_type": "markdown",
      "id": "d0881938",
      "metadata": {
        "id": "d0881938"
      },
      "source": [
        "#### Optional HW: Google or write your own code to automate multiple iterations of VIF calculation and feature removal."
      ]
    },
    {
      "cell_type": "markdown",
      "id": "d56bd26a",
      "metadata": {
        "id": "d56bd26a"
      },
      "source": [
        "### Look for Heteroskedasticity in Data"
      ]
    },
    {
      "cell_type": "code",
      "execution_count": null,
      "id": "d0d8ec04",
      "metadata": {
        "id": "d0d8ec04"
      },
      "outputs": [],
      "source": [
        "from sklearn.linear_model import LinearRegression\n",
        "model = LinearRegression()\n",
        "X = df[df.columns.drop('selling_price')]\n",
        "Y = df['selling_price']\n",
        "X = X.to_numpy()\n",
        "Y = Y.to_numpy()\n",
        "model.fit(X, Y)  # No need to add that extra column of 1s for sklearn\n",
        "Y_hat = model.predict(X)"
      ]
    },
    {
      "cell_type": "code",
      "execution_count": null,
      "id": "c2e75e1d",
      "metadata": {
        "id": "c2e75e1d"
      },
      "outputs": [],
      "source": [
        "errors = Y - Y_hat"
      ]
    },
    {
      "cell_type": "code",
      "execution_count": null,
      "id": "0baedeac",
      "metadata": {
        "id": "0baedeac",
        "outputId": "a7a3d2cd-f147-4484-8836-b25a8cfc8141"
      },
      "outputs": [
        {
          "data": {
            "text/plain": [
              "<matplotlib.collections.PathCollection at 0x263ed6f4820>"
            ]
          },
          "execution_count": 46,
          "metadata": {},
          "output_type": "execute_result"
        },
        {
          "data": {
            "image/png": "[encoded data removed]",
            "text/plain": [
              "<Figure size 640x480 with 1 Axes>"
            ]
          },
          "metadata": {},
          "output_type": "display_data"
        }
      ],
      "source": [
        "import matplotlib.pyplot as plt\n",
        "plt.scatter(Y, errors)"
      ]
    },
    {
      "cell_type": "markdown",
      "id": "a2551b5a",
      "metadata": {
        "id": "a2551b5a"
      },
      "source": [
        "![image.png](attachment:image.png)"
      ]
    },
    {
      "cell_type": "markdown",
      "id": "96369628",
      "metadata": {
        "id": "96369628"
      },
      "source": [
        "The spread is changing. Increasing/Decreasing."
      ]
    },
    {
      "cell_type": "markdown",
      "id": "a29dd347",
      "metadata": {
        "id": "a29dd347"
      },
      "source": [
        "![image.png](attachment:image.png)"
      ]
    },
    {
      "cell_type": "markdown",
      "id": "928b86ba",
      "metadata": {
        "id": "928b86ba"
      },
      "source": [
        "For lower values of Y, the model is doing underprediction a lot and for higher values of Y, the model is doing over prediction a lot. <br>\n",
        "We can do manual analysis of whether these samples are outliers or if there's anything different about these samples that leads to heteroskedasticity."
      ]
    },
    {
      "cell_type": "code",
      "execution_count": null,
      "id": "b44cb303",
      "metadata": {
        "id": "b44cb303",
        "outputId": "2e560746-904f-4d87-8bb2-00081d466779"
      },
      "outputs": [
        {
          "data": {
            "text/plain": [
              "array([ 0.07199108,  0.07032535, -0.02055506, ..., -0.1580075 ,\n",
              "        2.03155424,  0.07262606])"
            ]
          },
          "execution_count": 47,
          "metadata": {},
          "output_type": "execute_result"
        }
      ],
      "source": [
        "errors"
      ]
    },
    {
      "cell_type": "markdown",
      "id": "7217649e",
      "metadata": {
        "id": "7217649e"
      },
      "source": [
        "![image.png](attachment:image.png)"
      ]
    },
    {
      "cell_type": "markdown",
      "id": "f5e72335",
      "metadata": {
        "id": "f5e72335"
      },
      "source": [
        "You may also set a upper and lower limit and if your error is beyond those limits, then you check what's wrong with the samples.\n",
        "<br>Training the model on the remaining samples after removing the data points that are causing problems will also help analyze what the real issue is."
      ]
    },
    {
      "cell_type": "markdown",
      "id": "ea2d5119",
      "metadata": {
        "id": "ea2d5119"
      },
      "source": [
        "<strong>If you have any questions, connect with me here: https://www.linkedin.com/in/khushalkumar/</strong>"
      ]
    }
  ],
  "metadata": {
    "kernelspec": {
      "display_name": "Python 3 (ipykernel)",
      "language": "python",
      "name": "python3"
    },
    "language_info": {
      "codemirror_mode": {
        "name": "ipython",
        "version": 3
      },
      "file_extension": ".py",
      "mimetype": "text/x-python",
      "name": "python",
      "nbconvert_exporter": "python",
      "pygments_lexer": "ipython3",
      "version": "3.8.16"
    },
    "colab": {
      "provenance": [],
      "include_colab_link": true
    }
  },
  "nbformat": 4,
  "nbformat_minor": 5
}