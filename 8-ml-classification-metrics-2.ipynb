{
 "cells": [
  {
   "cell_type": "markdown",
   "id": "7056ab8c",
   "metadata": {},
   "source": [
    "# ML: Classification Metrics (CM)"
   ]
  },
  {
   "cell_type": "code",
   "execution_count": 1,
   "id": "e6804e2e",
   "metadata": {},
   "outputs": [],
   "source": [
    "import pandas as pd\n",
    "import numpy as np\n",
    "import matplotlib.pyplot as plt"
   ]
  },
  {
   "cell_type": "code",
   "execution_count": 2,
   "id": "354cd249",
   "metadata": {},
   "outputs": [
    {
     "data": {
      "text/html": [
       "<div>\n",
       "<style scoped>\n",
       "    .dataframe tbody tr th:only-of-type {\n",
       "        vertical-align: middle;\n",
       "    }\n",
       "\n",
       "    .dataframe tbody tr th {\n",
       "        vertical-align: top;\n",
       "    }\n",
       "\n",
       "    .dataframe thead th {\n",
       "        text-align: right;\n",
       "    }\n",
       "</style>\n",
       "<table border=\"1\" class=\"dataframe\">\n",
       "  <thead>\n",
       "    <tr style=\"text-align: right;\">\n",
       "      <th></th>\n",
       "      <th>text</th>\n",
       "      <th>label_num</th>\n",
       "    </tr>\n",
       "  </thead>\n",
       "  <tbody>\n",
       "    <tr>\n",
       "      <th>0</th>\n",
       "      <td>Subject: enron methanol ; meter # : 988291\\r\\n...</td>\n",
       "      <td>0</td>\n",
       "    </tr>\n",
       "    <tr>\n",
       "      <th>1</th>\n",
       "      <td>Subject: hpl nom for january 9 , 2001\\r\\n( see...</td>\n",
       "      <td>0</td>\n",
       "    </tr>\n",
       "    <tr>\n",
       "      <th>2</th>\n",
       "      <td>Subject: neon retreat\\r\\nho ho ho , we ' re ar...</td>\n",
       "      <td>0</td>\n",
       "    </tr>\n",
       "    <tr>\n",
       "      <th>3</th>\n",
       "      <td>Subject: photoshop , windows , office . cheap ...</td>\n",
       "      <td>1</td>\n",
       "    </tr>\n",
       "    <tr>\n",
       "      <th>4</th>\n",
       "      <td>Subject: re : indian springs\\r\\nthis deal is t...</td>\n",
       "      <td>0</td>\n",
       "    </tr>\n",
       "  </tbody>\n",
       "</table>\n",
       "</div>"
      ],
      "text/plain": [
       "                                                text  label_num\n",
       "0  Subject: enron methanol ; meter # : 988291\\r\\n...          0\n",
       "1  Subject: hpl nom for january 9 , 2001\\r\\n( see...          0\n",
       "2  Subject: neon retreat\\r\\nho ho ho , we ' re ar...          0\n",
       "3  Subject: photoshop , windows , office . cheap ...          1\n",
       "4  Subject: re : indian springs\\r\\nthis deal is t...          0"
      ]
     },
     "execution_count": 2,
     "metadata": {},
     "output_type": "execute_result"
    }
   ],
   "source": [
    "demo1 = pd.read_csv('spam_ham_dataset.csv')\n",
    "demo1.drop(['Unnamed: 0', 'label'], axis = 1, inplace = True)\n",
    "demo1.head()   "
   ]
  },
  {
   "cell_type": "markdown",
   "id": "9dbcd2f6",
   "metadata": {},
   "source": [
    "<pre>1 -> Spam\n",
    "0 -> Non Spam</pre>"
   ]
  },
  {
   "cell_type": "code",
   "execution_count": 3,
   "id": "4629e45f",
   "metadata": {},
   "outputs": [
    {
     "data": {
      "text/plain": [
       "0    3672\n",
       "1    1499\n",
       "Name: label_num, dtype: int64"
      ]
     },
     "execution_count": 3,
     "metadata": {},
     "output_type": "execute_result"
    }
   ],
   "source": [
    "demo1.label_num.value_counts()"
   ]
  },
  {
   "cell_type": "markdown",
   "id": "c314f6bb",
   "metadata": {},
   "source": [
    "There are about 1500 Spam emails and 3700 Non Spam emails."
   ]
  },
  {
   "cell_type": "code",
   "execution_count": 4,
   "id": "690bbef1",
   "metadata": {},
   "outputs": [
    {
     "data": {
      "text/html": [
       "<div>\n",
       "<style scoped>\n",
       "    .dataframe tbody tr th:only-of-type {\n",
       "        vertical-align: middle;\n",
       "    }\n",
       "\n",
       "    .dataframe tbody tr th {\n",
       "        vertical-align: top;\n",
       "    }\n",
       "\n",
       "    .dataframe thead th {\n",
       "        text-align: right;\n",
       "    }\n",
       "</style>\n",
       "<table border=\"1\" class=\"dataframe\">\n",
       "  <thead>\n",
       "    <tr style=\"text-align: right;\">\n",
       "      <th></th>\n",
       "      <th>label_num</th>\n",
       "      <th>Feature0</th>\n",
       "      <th>Feature1</th>\n",
       "      <th>Feature2</th>\n",
       "      <th>Feature3</th>\n",
       "      <th>Feature4</th>\n",
       "      <th>Feature5</th>\n",
       "      <th>Feature6</th>\n",
       "      <th>Feature7</th>\n",
       "      <th>Feature8</th>\n",
       "      <th>Feature9</th>\n",
       "      <th>Feature10</th>\n",
       "      <th>Feature11</th>\n",
       "      <th>Feature12</th>\n",
       "      <th>Feature13</th>\n",
       "      <th>Feature14</th>\n",
       "    </tr>\n",
       "  </thead>\n",
       "  <tbody>\n",
       "    <tr>\n",
       "      <th>0</th>\n",
       "      <td>0</td>\n",
       "      <td>-0.031489</td>\n",
       "      <td>-0.003323</td>\n",
       "      <td>-0.071238</td>\n",
       "      <td>0.047743</td>\n",
       "      <td>0.060798</td>\n",
       "      <td>0.046597</td>\n",
       "      <td>-0.069530</td>\n",
       "      <td>-0.000031</td>\n",
       "      <td>-0.037924</td>\n",
       "      <td>0.024059</td>\n",
       "      <td>-0.015085</td>\n",
       "      <td>-0.007752</td>\n",
       "      <td>-0.021617</td>\n",
       "      <td>-0.025395</td>\n",
       "      <td>0.046050</td>\n",
       "    </tr>\n",
       "    <tr>\n",
       "      <th>1</th>\n",
       "      <td>0</td>\n",
       "      <td>-0.122601</td>\n",
       "      <td>0.114176</td>\n",
       "      <td>0.460451</td>\n",
       "      <td>0.000953</td>\n",
       "      <td>0.014707</td>\n",
       "      <td>0.007610</td>\n",
       "      <td>-0.011173</td>\n",
       "      <td>-0.052478</td>\n",
       "      <td>0.040209</td>\n",
       "      <td>0.000076</td>\n",
       "      <td>0.010306</td>\n",
       "      <td>0.023397</td>\n",
       "      <td>-0.007294</td>\n",
       "      <td>0.063543</td>\n",
       "      <td>0.081119</td>\n",
       "    </tr>\n",
       "    <tr>\n",
       "      <th>2</th>\n",
       "      <td>0</td>\n",
       "      <td>-0.076681</td>\n",
       "      <td>-0.084330</td>\n",
       "      <td>-0.054658</td>\n",
       "      <td>-0.048236</td>\n",
       "      <td>-0.019999</td>\n",
       "      <td>-0.045909</td>\n",
       "      <td>-0.004712</td>\n",
       "      <td>-0.001524</td>\n",
       "      <td>0.013735</td>\n",
       "      <td>-0.022429</td>\n",
       "      <td>0.010273</td>\n",
       "      <td>-0.007458</td>\n",
       "      <td>-0.044340</td>\n",
       "      <td>-0.051093</td>\n",
       "      <td>0.025553</td>\n",
       "    </tr>\n",
       "    <tr>\n",
       "      <th>3</th>\n",
       "      <td>1</td>\n",
       "      <td>-0.075948</td>\n",
       "      <td>-0.059706</td>\n",
       "      <td>-0.025301</td>\n",
       "      <td>-0.037603</td>\n",
       "      <td>-0.001208</td>\n",
       "      <td>-0.030660</td>\n",
       "      <td>0.018873</td>\n",
       "      <td>-0.013434</td>\n",
       "      <td>-0.014981</td>\n",
       "      <td>0.000741</td>\n",
       "      <td>0.005653</td>\n",
       "      <td>0.032153</td>\n",
       "      <td>0.001884</td>\n",
       "      <td>-0.018005</td>\n",
       "      <td>-0.011060</td>\n",
       "    </tr>\n",
       "    <tr>\n",
       "      <th>4</th>\n",
       "      <td>0</td>\n",
       "      <td>-0.054680</td>\n",
       "      <td>0.033033</td>\n",
       "      <td>-0.090885</td>\n",
       "      <td>-0.047280</td>\n",
       "      <td>-0.029304</td>\n",
       "      <td>0.085893</td>\n",
       "      <td>-0.105351</td>\n",
       "      <td>-0.053915</td>\n",
       "      <td>-0.006857</td>\n",
       "      <td>0.021673</td>\n",
       "      <td>0.056718</td>\n",
       "      <td>0.006140</td>\n",
       "      <td>0.042217</td>\n",
       "      <td>0.018862</td>\n",
       "      <td>-0.007373</td>\n",
       "    </tr>\n",
       "  </tbody>\n",
       "</table>\n",
       "</div>"
      ],
      "text/plain": [
       "   label_num  Feature0  Feature1  Feature2  Feature3  Feature4  Feature5  \\\n",
       "0          0 -0.031489 -0.003323 -0.071238  0.047743  0.060798  0.046597   \n",
       "1          0 -0.122601  0.114176  0.460451  0.000953  0.014707  0.007610   \n",
       "2          0 -0.076681 -0.084330 -0.054658 -0.048236 -0.019999 -0.045909   \n",
       "3          1 -0.075948 -0.059706 -0.025301 -0.037603 -0.001208 -0.030660   \n",
       "4          0 -0.054680  0.033033 -0.090885 -0.047280 -0.029304  0.085893   \n",
       "\n",
       "   Feature6  Feature7  Feature8  Feature9  Feature10  Feature11  Feature12  \\\n",
       "0 -0.069530 -0.000031 -0.037924  0.024059  -0.015085  -0.007752  -0.021617   \n",
       "1 -0.011173 -0.052478  0.040209  0.000076   0.010306   0.023397  -0.007294   \n",
       "2 -0.004712 -0.001524  0.013735 -0.022429   0.010273  -0.007458  -0.044340   \n",
       "3  0.018873 -0.013434 -0.014981  0.000741   0.005653   0.032153   0.001884   \n",
       "4 -0.105351 -0.053915 -0.006857  0.021673   0.056718   0.006140   0.042217   \n",
       "\n",
       "   Feature13  Feature14  \n",
       "0  -0.025395   0.046050  \n",
       "1   0.063543   0.081119  \n",
       "2  -0.051093   0.025553  \n",
       "3  -0.018005  -0.011060  \n",
       "4   0.018862  -0.007373  "
      ]
     },
     "execution_count": 4,
     "metadata": {},
     "output_type": "execute_result"
    }
   ],
   "source": [
    "dt = pd.read_csv('Spam_finalData.csv')\n",
    "dt.head()"
   ]
  },
  {
   "cell_type": "code",
   "execution_count": 5,
   "id": "fe4adaa6",
   "metadata": {},
   "outputs": [
    {
     "data": {
      "text/plain": [
       "0    71.01141\n",
       "1    28.98859\n",
       "Name: label_num, dtype: float64"
      ]
     },
     "execution_count": 5,
     "metadata": {},
     "output_type": "execute_result"
    }
   ],
   "source": [
    "dt.label_num.value_counts(normalize = True) * 100"
   ]
  },
  {
   "cell_type": "code",
   "execution_count": 6,
   "id": "72ae5ce1",
   "metadata": {},
   "outputs": [],
   "source": [
    "# for saving some time, we are skipping hyper-parameter tuning and hence, validation part \n",
    "from sklearn.model_selection import train_test_split\n",
    "X_train, X_test, y_train, y_test = train_test_split(dt.drop(['label_num'], axis = 1), dt['label_num'])"
   ]
  },
  {
   "cell_type": "code",
   "execution_count": 7,
   "id": "481a3f61",
   "metadata": {},
   "outputs": [
    {
     "name": "stdout",
     "output_type": "stream",
     "text": [
      "Model Accuracy:  0.9273008507347255\n"
     ]
    }
   ],
   "source": [
    "from sklearn.linear_model import LogisticRegression\n",
    "model = LogisticRegression()\n",
    "model.fit(X_train, y_train)\n",
    "print('Model Accuracy: ', model.score(X_test, y_test))"
   ]
  },
  {
   "cell_type": "markdown",
   "id": "8bf71768",
   "metadata": {},
   "source": [
    "The model is performing correct classification 94% of the times."
   ]
  },
  {
   "cell_type": "markdown",
   "id": "e7409563",
   "metadata": {},
   "source": [
    "Is it actually good?"
   ]
  },
  {
   "cell_type": "markdown",
   "id": "0193df9c",
   "metadata": {},
   "source": [
    "### Confusion Matrix"
   ]
  },
  {
   "cell_type": "code",
   "execution_count": 8,
   "id": "1046c653",
   "metadata": {},
   "outputs": [
    {
     "name": "stdout",
     "output_type": "stream",
     "text": [
      "[[847  74]\n",
      " [ 20 352]]\n"
     ]
    }
   ],
   "source": [
    "from sklearn.metrics import confusion_matrix, ConfusionMatrixDisplay\n",
    "y_pred = model.predict(X_test)\n",
    "cm = confusion_matrix(y_test, y_pred)\n",
    "print(cm)"
   ]
  },
  {
   "cell_type": "markdown",
   "id": "a3130ecb",
   "metadata": {},
   "source": [
    "true label being i-th class and predicted label being j-th class."
   ]
  },
  {
   "cell_type": "code",
   "execution_count": 9,
   "id": "450f7dda",
   "metadata": {},
   "outputs": [
    {
     "data": {
      "text/plain": [
       "<sklearn.metrics._plot.confusion_matrix.ConfusionMatrixDisplay at 0x18868ab8310>"
      ]
     },
     "execution_count": 9,
     "metadata": {},
     "output_type": "execute_result"
    },
    {
     "data": {
      "image/png": "[encoded data removed]",
      "text/plain": [
       "<Figure size 640x480 with 2 Axes>"
      ]
     },
     "metadata": {},
     "output_type": "display_data"
    }
   ],
   "source": [
    "ConfusionMatrixDisplay(cm).plot()"
   ]
  },
  {
   "cell_type": "code",
   "execution_count": 10,
   "id": "a9127b57",
   "metadata": {},
   "outputs": [
    {
     "data": {
      "text/plain": [
       "<sklearn.metrics._plot.confusion_matrix.ConfusionMatrixDisplay at 0x18868ab8790>"
      ]
     },
     "execution_count": 10,
     "metadata": {},
     "output_type": "execute_result"
    },
    {
     "data": {
      "image/png": "[encoded data removed]",
      "text/plain": [
       "<Figure size 640x480 with 2 Axes>"
      ]
     },
     "metadata": {},
     "output_type": "display_data"
    }
   ],
   "source": [
    "ConfusionMatrixDisplay(cm).plot(cmap = 'Blues')"
   ]
  },
  {
   "cell_type": "code",
   "execution_count": 11,
   "id": "f7e05f61",
   "metadata": {},
   "outputs": [
    {
     "data": {
      "text/plain": [
       "0.9273008507347255"
      ]
     },
     "execution_count": 11,
     "metadata": {},
     "output_type": "execute_result"
    }
   ],
   "source": [
    "# accuracy using cm\n",
    "np.sum(np.diag(cm)) / np.sum(cm)"
   ]
  },
  {
   "cell_type": "code",
   "execution_count": 12,
   "id": "377ce566",
   "metadata": {},
   "outputs": [],
   "source": [
    "from sklearn.metrics import precision_score, recall_score"
   ]
  },
  {
   "cell_type": "code",
   "execution_count": 13,
   "id": "398122fd",
   "metadata": {},
   "outputs": [
    {
     "data": {
      "text/plain": [
       "0.8262910798122066"
      ]
     },
     "execution_count": 13,
     "metadata": {},
     "output_type": "execute_result"
    }
   ],
   "source": [
    "precision_score(y_test, y_pred)"
   ]
  },
  {
   "cell_type": "code",
   "execution_count": 14,
   "id": "2982e93f",
   "metadata": {},
   "outputs": [
    {
     "data": {
      "text/plain": [
       "0.946236559139785"
      ]
     },
     "execution_count": 14,
     "metadata": {},
     "output_type": "execute_result"
    }
   ],
   "source": [
    "recall_score(y_test, y_pred)"
   ]
  },
  {
   "cell_type": "code",
   "execution_count": 15,
   "id": "c240f4fe",
   "metadata": {},
   "outputs": [
    {
     "data": {
      "text/plain": [
       "0.8822055137844613"
      ]
     },
     "execution_count": 15,
     "metadata": {},
     "output_type": "execute_result"
    }
   ],
   "source": [
    "from sklearn.metrics import f1_score\n",
    "f1_score(y_test, y_pred)"
   ]
  },
  {
   "cell_type": "markdown",
   "id": "1f922ec6",
   "metadata": {},
   "source": [
    "<strong>If you have any questions, connect with me here:</strong> https://www.linkedin.com/in/khushalkumar/"
   ]
  }
 ],
 "metadata": {
  "kernelspec": {
   "display_name": "Python 3 (ipykernel)",
   "language": "python",
   "name": "python3"
  },
  "language_info": {
   "codemirror_mode": {
    "name": "ipython",
    "version": 3
   },
   "file_extension": ".py",
   "mimetype": "text/x-python",
   "name": "python",
   "nbconvert_exporter": "python",
   "pygments_lexer": "ipython3",
   "version": "3.8.16"
  }
 },
 "nbformat": 4,
 "nbformat_minor": 5
}
